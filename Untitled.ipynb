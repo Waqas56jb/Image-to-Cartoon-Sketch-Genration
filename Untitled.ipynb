{
 "cells": [
  {
   "cell_type": "code",
   "execution_count": 25,
   "id": "2809491d-15ba-498b-b159-9fb40be9ec9e",
   "metadata": {},
   "outputs": [],
   "source": [
    "from PIL import Image, ImageDraw\n",
    "\n",
    "def generate_cartoon_avatar(image_path):\n",
    "    with Image.open(image_path) as img:\n",
    "        img = img.resize((256, 256))\n",
    "        img = img.convert('RGBA')\n",
    "\n",
    "        # Face\n",
    "        draw = ImageDraw.Draw(img)\n",
    "        draw.ellipse([(50, 50), (206, 206)], fill=(255, 255, 255))\n",
    "\n",
    "        # Eyes\n",
    "        draw.ellipse([(80, 100), (120, 140)], fill=(0, 0, 0))\n",
    "        draw.ellipse([(140, 100), (180, 140)], fill=(0, 0, 0))\n",
    "\n",
    "        # Mouth\n",
    "        draw.line([(100, 180), (156, 180)], fill=(0, 0, 0), width=10)\n",
    "\n",
    "        # Hair\n",
    "        draw.rectangle([(0, 0), (256, 50)], fill=(128, 0, 0))\n",
    "\n",
    "        # Save image in original format\n",
    "        image_format = image_path.split('.')[-1]\n",
    "        if image_format.lower() == 'jpg' or image_format.lower() == 'jpeg':\n",
    "            img = img.convert('RGB')  # Convert to RGB mode for JPEG\n",
    "        img.save(f'cartoon_avatar.{image_format}')\n",
    "\n",
    "# Example usage\n",
    "image_path = \"1.jpeg\"\n",
    "generate_cartoon_avatar(image_path)\n"
   ]
  },
  {
   "cell_type": "code",
   "execution_count": null,
   "id": "614031a2-e45d-4e4b-8e87-06d29a411179",
   "metadata": {},
   "outputs": [],
   "source": []
  }
 ],
 "metadata": {
  "kernelspec": {
   "display_name": "Python 3 (ipykernel)",
   "language": "python",
   "name": "python3"
  },
  "language_info": {
   "codemirror_mode": {
    "name": "ipython",
    "version": 3
   },
   "file_extension": ".py",
   "mimetype": "text/x-python",
   "name": "python",
   "nbconvert_exporter": "python",
   "pygments_lexer": "ipython3",
   "version": "3.12.4"
  }
 },
 "nbformat": 4,
 "nbformat_minor": 5
}
